{
  "metadata": {
    "kernelspec": {
      "name": "python",
      "display_name": "Python (Pyodide)",
      "language": "python"
    },
    "language_info": {
      "codemirror_mode": {
        "name": "python",
        "version": 3
      },
      "file_extension": ".py",
      "mimetype": "text/x-python",
      "name": "python",
      "nbconvert_exporter": "python",
      "pygments_lexer": "ipython3",
      "version": "3.8"
    }
  },
  "nbformat_minor": 5,
  "nbformat": 4,
  "cells": [
    {
      "id": "a35eeb9f-df70-4ab1-a243-2d2025888eb0",
      "cell_type": "markdown",
      "source": "<h1>Data Science Tools and Ecosystem</h1>",
      "metadata": {}
    },
    {
      "id": "a909e734-3d39-4093-a568-062d42e64535",
      "cell_type": "markdown",
      "source": "In this notebook,Data Science Tools and Ecosystem are summarized",
      "metadata": {}
    },
    {
      "id": "eb3bce21-cac6-4780-87ff-2281fc5c5604",
      "cell_type": "markdown",
      "source": "Some of the popular languages that Data Scientists use are :\n\n  1. Python\n  2. R\n  3. C++\n  4. SQL(Structured Query Language)\n  5. Java etc..",
      "metadata": {}
    },
    {
      "id": "37d0e511-f453-4fd5-adbd-e3158cc2e91c",
      "cell_type": "markdown",
      "source": "Some of the commonly used libraries used by Data Scientists Include :\n\n 1. Scikit-Learn,\n 2. PyTorch,\n 3. Matplotlib,\n 4. Pandas,\n 5. Tensorflow,\n 6. Numpy,\n 7. SciPy and\n 8. Keras etc..",
      "metadata": {}
    },
    {
      "id": "a58ad525-989e-40eb-9299-e5f63df177fa",
      "cell_type": "markdown",
      "source": "|Data Science Tools|\n|---|\n|SAS|\n|Tensorflow|\n|Apache Hadoop|",
      "metadata": {}
    },
    {
      "id": "2494caf1-2cc1-4d14-ae1e-2439d21c6120",
      "cell_type": "markdown",
      "source": "<h3> Below are a few examples of evaluating arithmetic expressions in Python: </h3>",
      "metadata": {}
    },
    {
      "id": "bbccbd70-e93a-43c1-b257-9ff77c59b38f",
      "cell_type": "code",
      "source": "#an example to show arithmetic operation to multiply and then add the integers.\n(8*4)+9",
      "metadata": {
        "trusted": true
      },
      "outputs": [
        {
          "execution_count": 5,
          "output_type": "execute_result",
          "data": {
            "text/plain": "41"
          },
          "metadata": {}
        }
      ],
      "execution_count": 5
    },
    {
      "id": "65bd2036-ffa0-4571-af20-373b7a83216b",
      "cell_type": "code",
      "source": "#Code to convert minutes into hours ,we need to divide numbers of minutes with 60 as 1 hour= 60 mins\n400/60 ",
      "metadata": {
        "trusted": true
      },
      "outputs": [
        {
          "execution_count": 6,
          "output_type": "execute_result",
          "data": {
            "text/plain": "6.666666666666667"
          },
          "metadata": {}
        }
      ],
      "execution_count": 6
    },
    {
      "id": "8c501fab-4cd8-4dff-ab5d-27aa6d430b83",
      "cell_type": "markdown",
      "source": "__Objectives__\n* List popular Libraries for DataScience\n* List popular languages for DataScience\n* List of well known Data Science Tools\n* To provide comments inside the cell\n* To perform some arithmetic Operations\n* To perform some logical Operations usingn simple codes and also adding markdown cells              ",
      "metadata": {}
    },
    {
      "id": "0052dabf-a33e-4c43-b28a-f6d65a962062",
      "cell_type": "markdown",
      "source": "## Authour\nArun Kumar Suthari",
      "metadata": {}
    }
  ]
}